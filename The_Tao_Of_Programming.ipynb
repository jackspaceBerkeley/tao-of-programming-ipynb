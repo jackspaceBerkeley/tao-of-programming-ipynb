{
 "metadata": {
  "name": "The Tao Of Programming"
 },
 "nbformat": 3,
 "nbformat_minor": 0,
 "worksheets": [
  {
   "cells": [
    {
     "cell_type": "heading",
     "level": 2,
     "metadata": {},
     "source": "The Tao Of Programming"
    },
    {
     "cell_type": "markdown",
     "metadata": {},
     "source": "Translated by Geoffrey James\n\nTranscribed by Duke Hillard\n\nTransmitted by Anupam Trivedi, Sajitha Tampi, and Meghshyam Jagannath\n\nRe-html-ized and edited by Kragen Sittler\n\nPreviously modified 1996-04-10 or earlier\n\nMigration into IPython Notebook format with joy and compassion by Jackspace August 29, 2013\n\nSource URL: <A HREF=\"http://www.canonical.org/~kragen/tao-of-programming.html\">http://www.canonical.org/~kragen/tao-of-programming.html</A>"
    },
    {
     "cell_type": "heading",
     "level": 3,
     "metadata": {},
     "source": "Table of Contents"
    },
    {
     "cell_type": "raw",
     "metadata": {},
     "source": "\n1. The Silent Void\n2. The Ancient Masters\n3. Design\n4. Coding\n5. Maintenance\n6. Management\n7. Corporate Wisdom\n8. Hardware and Software\n9. Epilogue"
    },
    {
     "cell_type": "heading",
     "level": 3,
     "metadata": {},
     "source": "Book 1 - The Silent Void"
    },
    {
     "cell_type": "raw",
     "metadata": {},
     "source": "Thus spake the master programmer:\n\n``When you have learned to snatch the error code from the trap frame, it will be time for you to leave.''"
    },
    {
     "cell_type": "heading",
     "level": 4,
     "metadata": {},
     "source": "1.1"
    },
    {
     "cell_type": "raw",
     "metadata": {},
     "source": "Something mysterious is formed, born in the silent void. Waiting alone and unmoving, it is at once still and yet in constant motion. It is the source of all programs. I do not know its name, so I will call it the Tao of Programming.\n\nIf the Tao is great, then the operating system is great. If the operating system is great, then the compiler is great. If the compiler is great, then the application is great. The user is pleased and there exists harmony in the world.\n\nThe Tao of Programming flows far away and returns on the wind of morning."
    },
    {
     "cell_type": "heading",
     "level": 4,
     "metadata": {},
     "source": "1.2"
    },
    {
     "cell_type": "raw",
     "metadata": {},
     "source": "The Tao gave birth to machine language. Machine language gave birth to the assembler.\n\nThe assembler gave birth to the compiler. Now there are ten thousand languages.\n\nEach language has its purpose, however humble. Each language expresses the Yin and Yang of software. Each language has its place within the Tao.\n\nBut do not program in COBOL if you can avoid it."
    },
    {
     "cell_type": "heading",
     "level": 4,
     "metadata": {},
     "source": "1.3"
    },
    {
     "cell_type": "raw",
     "metadata": {},
     "source": "In the beginning was the Tao. The Tao gave birth to Space and Time. Therefore Space and Time are Yin and Yang of programming.\n\nProgrammers that do not comprehend the Tao are always running out of time and space for their programs. Programmers that comprehend the Tao always have enough time and space to accomplish their goals.\n\nHow could it be otherwise?"
    },
    {
     "cell_type": "heading",
     "level": 4,
     "metadata": {},
     "source": "1.4"
    },
    {
     "cell_type": "raw",
     "metadata": {},
     "source": "The wise programmer is told about Tao and follows it. The average programmer is told about Tao and searches for it. The foolish programmer is told about Tao and laughs at it.\n\nIf it were not for laughter, there would be no Tao.\n\nThe highest sounds are hardest to hear. \nGoing forward is a way to retreat. \nGreat talent shows itself late in life. \nEven a perfect program still has bugs."
    },
    {
     "cell_type": "heading",
     "level": 3,
     "metadata": {},
     "source": "Book 2 - The Ancient Masters"
    },
    {
     "cell_type": "raw",
     "metadata": {},
     "source": "Thus spake the master programmer:\n\n``After three days without programming, life becomes meaningless.''"
    },
    {
     "cell_type": "heading",
     "level": 4,
     "metadata": {},
     "source": "2.1"
    },
    {
     "cell_type": "raw",
     "metadata": {},
     "source": "The programmers of old were mysterious and profound. We cannot fathom their thoughts, so all we do is describe their appearance.\n\nAware, like a fox crossing the water. Alert, like a general on the battlefield. Kind, like a hostess greeting her guests. Simple, like uncarved blocks of wood. Opaque, like black pools in darkened caves.\n\nWho can tell the secrets of their hearts and minds?\n\nThe answer exists only in Tao."
    },
    {
     "cell_type": "heading",
     "level": 4,
     "metadata": {},
     "source": "2.2"
    },
    {
     "cell_type": "raw",
     "metadata": {},
     "source": "Grand Master Turing once dreamed that he was a machine. When he awoke he exclaimed:\n\n``I don't know whether I am Turing dreaming that I am a machine, or a machine dreaming that I am Turing!''"
    },
    {
     "cell_type": "heading",
     "level": 4,
     "metadata": {},
     "source": "2.3"
    },
    {
     "cell_type": "raw",
     "metadata": {},
     "source": "A programmer from a very large computer company went to a software conference and then returned to report to his manager, saying: ``What sort of programmers work for other companies? They behaved badly and were unconcerned with appearances. Their hair was long and unkempt and their clothes were wrinkled and old. They crashed our hospitality suite and they made rude noises during my presentation.''\n\nThe manager said: ``I should have never sent you to the conference. Those programmers live beyond the physical world. They consider life absurd, an accidental coincidence. They come and go without knowing limitations. Without a care, they live only for their programs. Why should they bother with social conventions?\n\n``They are alive within the Tao.''"
    },
    {
     "cell_type": "heading",
     "level": 4,
     "metadata": {},
     "source": "2.4"
    },
    {
     "cell_type": "raw",
     "metadata": {},
     "source": "A novice asked the Master: ``Here is a programmer that never designs, documents or tests his programs. Yet all who know him consider him one of the best programmers in the world. Why is this?''\n\nThe Master replies: ``That programmer has mastered the Tao. He has gone beyond the need for design; he does not become angry when the system crashes, but accepts the universe without concern. He has gone beyond the need for documentation; he no longer cares if anyone else sees his code. He has gone beyond the need for testing; each of his programs are perfect within themselves, serene and elegant, their purpose self-evident. Truly, he has entered the mystery of Tao.''"
    },
    {
     "cell_type": "heading",
     "level": 3,
     "metadata": {},
     "source": "Book 3 - Design"
    },
    {
     "cell_type": "raw",
     "metadata": {},
     "source": "Thus spake the master programmer:\n\n``When the program is being tested, it is too late to make design changes.''"
    },
    {
     "cell_type": "heading",
     "level": 4,
     "metadata": {},
     "source": "3.1"
    },
    {
     "cell_type": "raw",
     "metadata": {},
     "source": "There once was a man who went to a computer trade show. Each day as he entered, the man told the guard at the door:\n\n``I am a great thief, renowned for my feats of shoplifting. Be forewarned, for this trade show shall not escape unplundered.''\nThis speech disturbed the guard greatly, because there were millions of dollars of computer equipment inside, so he watched the man carefully. But the man merely wandered from booth to booth, humming quietly to himself.\n\nWhen the man left, the guard took him aside and searched his clothes, but nothing was to be found.\n\nOn the next day of the trade show, the man returned and chided the guard saying: ``I escaped with a vast booty yesterday, but today will be even better.'' So the guard watched him ever more closely, but to no avail.\n\nOn the final day of the trade show, the guard could restrain his curiosity no longer. ``Sir Thief,'' he said, ``I am so perplexed, I cannot live in peace. Please enlighten me. What is it that you are stealing?''\n\nThe man smiled. ``I am stealing ideas,'' he said."
    },
    {
     "cell_type": "heading",
     "level": 4,
     "metadata": {},
     "source": "3.2"
    },
    {
     "cell_type": "raw",
     "metadata": {},
     "source": "There once was a master programmer who wrote unstructured programs. A novice programmer, seeking to imitate him, also began to write unstructured programs. When the novice asked the master to evaluate his progress, the master criticized him for writing unstructured programs, saying, ``What is appropriate for the master is not appropriate for the novice. You must understand the Tao before transcending structure.''"
    },
    {
     "cell_type": "heading",
     "level": 4,
     "metadata": {},
     "source": "3.3"
    },
    {
     "cell_type": "raw",
     "metadata": {},
     "source": "There was once a programmer who was attached to the court of the warlord of Wu. The warlord asked the programmer: ``Which is easier to design: an accounting package or an operating system?''\n\n``An operating system,'' replied the programmer.\n\nThe warlord uttered an exclamation of disbelief. ``Surely an accounting package is trivial next to the complexity of an operating system,'' he said.\n\n``Not so,'' said the programmer, ``when designing an accounting package, the programmer operates as a mediator between people having different ideas: how it must operate, how its reports must appear, and how it must conform to the tax laws. By contrast, an operating system is not limited by outside appearances. When designing an operating system, the programmer seeks the simplest harmony between machine and ideas. This is why an operating system is easier to design.''\n\nThe warlord of Wu nodded and smiled. ``That is all good and well, but which is easier to debug?''\n\nThe programmer made no reply."
    },
    {
     "cell_type": "heading",
     "level": 4,
     "metadata": {},
     "source": "3.4"
    },
    {
     "cell_type": "raw",
     "metadata": {},
     "source": "A manager went to the master programmer and showed him the requirements document for a new application. The manager asked the master: ``How long will it take to design this system if I assign five programmers to it?''\n\n``It will take one year,'' said the master promptly.\n\n``But we need this system immediately or even sooner! How long will it take if I assign ten programmers to it?''\n\nThe master programmer frowned. ``In that case, it will take two years.''\n\n``And what if I assign a hundred programmers to it?''\n\nThe master programmer shrugged. ``Then the design will never be completed,'' he said."
    },
    {
     "cell_type": "heading",
     "level": 3,
     "metadata": {},
     "source": "Book 4 - Coding"
    },
    {
     "cell_type": "raw",
     "metadata": {},
     "source": "Thus spake the master programmer:\n\n``A well-written program is its own heaven; a poorly-written program is its own hell.''"
    },
    {
     "cell_type": "heading",
     "level": 4,
     "metadata": {},
     "source": "4.1"
    },
    {
     "cell_type": "raw",
     "metadata": {},
     "source": "A program should be light and agile, its subroutines connected like a string of pearls. The spirit and intent of the program should be retained throughout. There should be neither too little or too much, neither needless loops nor useless variables, neither lack of structure nor overwhelming rigidity.\n\nA program should follow the `Law of Least Astonishment'. What is this law? It is simply that the program should always respond to the user in the way that astonishes him least.\n\nA program, no matter how complex, should act as a single unit. The program should be directed by the logic within rather than by outward appearances.\n\nIf the program fails in these requirements, it will be in a state of disorder and confusion. The only way to correct this is to rewrite the program."
    },
    {
     "cell_type": "heading",
     "level": 4,
     "metadata": {},
     "source": "4.2"
    },
    {
     "cell_type": "raw",
     "metadata": {},
     "source": "A novice asked the master: ``I have a program that sometime runs and sometimes aborts. I have followed the rules of programming, yet I am totally baffled. What is the reason for this?''\n\nThe master replied: ``You are confused because you do not understand Tao. Only a fool expects rational behavior from his fellow humans. Why do you expect it from a machine that humans have constructed? Computers simulate determinism; only Tao is perfect.\n\n``The rules of programming are transitory; only Tao is eternal. Therefore you must contemplate Tao before you receive enlightenment.''\n\n``But how will I know when I have received enlightenment?'' asked the novice.\n\n``Your program will then run correctly,'' replied the master."
    },
    {
     "cell_type": "heading",
     "level": 4,
     "metadata": {},
     "source": "4.3"
    },
    {
     "cell_type": "raw",
     "metadata": {},
     "source": "A master was explaining the nature of Tao of to one of his novices. ``The Tao is embodied in all software - regardless of how insignificant,'' said the master.\n\n``Is the Tao in a hand-held calculator?'' asked the novice.\n\n``It is,'' came the reply.\n\n``Is the Tao in a video game?'' continued the novice.\n\n``It is even in a video game,'' said the master.\n\n``And is the Tao in the DOS for a personal computer?''\n\nThe master coughed and shifted his position slightly. ``The lesson is over for today,'' he said."
    },
    {
     "cell_type": "heading",
     "level": 4,
     "metadata": {},
     "source": "4.4"
    },
    {
     "cell_type": "raw",
     "metadata": {},
     "source": "Prince Wang's programmer was coding software. His fingers danced upon the keyboard. The program compiled without an error message, and the program ran like a gentle wind.\n\n``Excellent!'' the Prince exclaimed, ``Your technique is faultless!''\n\n``Technique?'' said the programmer turning from his terminal, ``What I follow is Tao - beyond all techniques! When I first began to program I would see before me the whole problem in one mass. After three years I no longer saw this mass. Instead, I used subroutines. But now I see nothing. My whole being exists in a formless void. My senses are idle. My spirit, free to work without plan, follows its own instinct. In short, my program writes itself. True, sometimes there are difficult problems. I see them coming, I slow down, I watch silently. Then I change a single line of code and the difficulties vanish like puffs of idle smoke. I then compile the program. I sit still and let the joy of the work fill my being. I close my eyes for a moment and then log off.''\n\nPrince Wang said, ``Would that all of my programmers were as wise!''"
    },
    {
     "cell_type": "heading",
     "level": 3,
     "metadata": {},
     "source": "Book 5 - Maintenance"
    },
    {
     "cell_type": "raw",
     "metadata": {},
     "source": "Thus spake the master programmer:\n\n``Though a program be but three lines long, someday it will have to be maintained.''"
    },
    {
     "cell_type": "heading",
     "level": 4,
     "metadata": {},
     "source": "5.1"
    },
    {
     "cell_type": "raw",
     "metadata": {},
     "source": "A well-used door needs no oil on its hinges. \nA swift-flowing stream does not grow stagnant. \nNeither sound nor thoughts can travel through a vacuum. \nSoftware rots if not used. \nThese are great mysteries."
    },
    {
     "cell_type": "heading",
     "level": 4,
     "metadata": {},
     "source": "5.2"
    },
    {
     "cell_type": "raw",
     "metadata": {},
     "source": "A manager asked a programmer how long it would take him to finish the program on which he was working. ``It will be finished tomorrow,'' the programmer promptly replied.\n\n``I think you are being unrealistic,'' said the manager, ``Truthfully, how long will it take?''\n\nThe programmer thought for a moment. ``I have some features that I wish to add. This will take at least two weeks,'' he finally said.\n\n``Even that is too much to expect,'' insisted the manager, ``I will be satisfied if you simply tell me when the program is complete.''\n\nThe programmer agreed to this.\n\nSeveral years later, the manager retired. On the way to his retirement luncheon, he discovered the programmer asleep at his terminal. He had been programming all night."
    },
    {
     "cell_type": "heading",
     "level": 4,
     "metadata": {},
     "source": "5.3"
    },
    {
     "cell_type": "raw",
     "metadata": {},
     "source": "A novice programmer was once assigned to code a simple financial package.\n\nThe novice worked furiously for many days, but when his master reviewed his program, he discovered that it contained a screen editor, a set of generalized graphics routines, an artificial intelligence interface, but not the slightest mention of anything financial.\n\nWhen the master asked about this, the novice became indignant. ``Don't be so impatient,'' he said, ``I'll put in the financial stuff eventually.''"
    },
    {
     "cell_type": "heading",
     "level": 4,
     "metadata": {},
     "source": "5.4"
    },
    {
     "cell_type": "raw",
     "metadata": {},
     "source": "Does a good farmer neglect a crop he has planted? \nDoes a good teacher overlook even the most humble student? \nDoes a good father allow a single child to starve? \nDoes a good programmer refuse to maintain his code?"
    },
    {
     "cell_type": "heading",
     "level": 3,
     "metadata": {},
     "source": "Book 6 - Management"
    },
    {
     "cell_type": "raw",
     "metadata": {},
     "source": "Thus spake the master programmer:\n\n``Let the programmers be many and the managers few - then all will be productive.''"
    },
    {
     "cell_type": "heading",
     "level": 4,
     "metadata": {},
     "source": "6.1"
    },
    {
     "cell_type": "raw",
     "metadata": {},
     "source": "When managers hold endless meetings, the programmers write games. When accountants talk of quarterly profits, the development budget is about to be cut. When senior scientists talk blue sky, the clouds are about to roll in.\n\nTruly, this is not the Tao of Programming.\n\nWhen managers make commitments, game programs are ignored. When accountants make long-range plans, harmony and order are about to be restored. When senior scientists address the problems at hand, the problems will soon be solved.\n\nTruly, this is the Tao of Programming."
    },
    {
     "cell_type": "heading",
     "level": 4,
     "metadata": {},
     "source": "6.2"
    },
    {
     "cell_type": "raw",
     "metadata": {},
     "source": "Why are programmers non-productive? \nBecause their time is wasted in meetings.\n\nWhy are programmers rebellious? \nBecause the management interferes too much.\n\nWhy are the programmers resigning one by one? \nBecause they are burnt out.\n\nHaving worked for poor management, they no longer value their jobs."
    },
    {
     "cell_type": "heading",
     "level": 4,
     "metadata": {},
     "source": "6.3"
    },
    {
     "cell_type": "raw",
     "metadata": {},
     "source": "A manager was about to be fired, but a programmer who worked for him invented a new program that became popular and sold well. As a result, the manager retained his job.\n\nThe manager tried to give the programmer a bonus, but the programmer refused it, saying, ``I wrote the program because I thought it was an interesting concept, and thus I expect no reward.''\n\nThe manager upon hearing this remarked, ``This programmer, though he holds a position of small esteem, understands well the proper duty of an employee. Let us promote him to the exalted position of management consultant!''\n\nBut when told this, the programmer once more refused, saying, ``I exist so that I can program. If I were promoted, I would do nothing but waste everyone's time. Can I go now? I have a program that I'm working on.\""
    },
    {
     "cell_type": "heading",
     "level": 4,
     "metadata": {},
     "source": "6.4"
    },
    {
     "cell_type": "raw",
     "metadata": {},
     "source": "A manager went to his programmers and told them: ``As regards to your work hours: you are going to have to come in at nine in the morning and leave at five in the afternoon.'' At this, all of them became angry and several resigned on the spot.\n\nSo the manager said: ``All right, in that case you may set your own working hours, as long as you finish your projects on schedule.'' The programmers, now satisfied, began to come in at noon and work to the wee hours of the morning."
    },
    {
     "cell_type": "heading",
     "level": 3,
     "metadata": {},
     "source": "Book 7 - Corporate Wisdom"
    },
    {
     "cell_type": "raw",
     "metadata": {},
     "source": "Thus spake the master programmer:\n\n``You can demonstrate a program for a corporate executive, but you can't make him computer literate.''"
    },
    {
     "cell_type": "heading",
     "level": 4,
     "metadata": {},
     "source": "7.1"
    },
    {
     "cell_type": "raw",
     "metadata": {},
     "source": "A novice asked the master: ``In the east there is a great tree-structure that men call `Corporate Headquarters'. It is bloated out of shape with vice presidents and accountants. It issues a multitude of memos, each saying `Go, Hence!' or `Go, Hither!' and nobody knows what is meant. Every year new names are put onto the branches, but all to no avail. How can such an unnatural entity be?\"\n\nThe master replied: ``You perceive this immense structure and are disturbed that it has no rational purpose. Can you not take amusement from its endless gyrations? Do you not enjoy the untroubled ease of programming beneath its sheltering branches? Why are you bothered by its uselessness?''"
    },
    {
     "cell_type": "heading",
     "level": 4,
     "metadata": {},
     "source": "7.2"
    },
    {
     "cell_type": "raw",
     "metadata": {},
     "source": "In the east there is a shark which is larger than all other fish. It changes into a bird whose wings are like clouds filling the sky. When this bird moves across the land, it brings a message from Corporate Headquarters. This message it drops into the midst of the programmers, like a seagull making its mark upon the beach. Then the bird mounts on the wind and, with the blue sky at its back, returns home.\n\nThe novice programmer stares in wonder at the bird, for he understands it not. The average programmer dreads the coming of the bird, for he fears its message. The master programmer continues to work at his terminal, for he does not know that the bird has come and gone."
    },
    {
     "cell_type": "heading",
     "level": 4,
     "metadata": {},
     "source": "7.3"
    },
    {
     "cell_type": "raw",
     "metadata": {},
     "source": "The Magician of the Ivory Tower brought his latest invention for the master programmer to examine. The magician wheeled a large black box into the master's office while the master waited in silence.\n\n``This is an integrated, distributed, general-purpose workstation,'' began the magician, ``ergonomically designed with a proprietary operating system, sixth generation languages, and multiple state of the art user interfaces. It took my assistants several hundred man years to construct. Is it not amazing?''\n\nThe master raised his eyebrows slightly. ``It is indeed amazing,'' he said.\n\n``Corporate Headquarters has commanded,'' continued the magician, ``that everyone use this workstation as a platform for new programs. Do you agree to this?''\n\n``Certainly,'' replied the master, ``I will have it transported to the data center immediately!'' And the magician returned to his tower, well pleased.\n\nSeveral days later, a novice wandered into the office of the master programmer and said, ``I cannot find the listing for my new program. Do you know where it might be?''\n\n``Yes,'' replied the master, ``the listings are stacked on the platform in the data center.''"
    },
    {
     "cell_type": "heading",
     "level": 4,
     "metadata": {},
     "source": "7.4"
    },
    {
     "cell_type": "raw",
     "metadata": {},
     "source": "The master programmer moves from program to program without fear. No change in management can harm him. He will not be fired, even if the project is cancelled. Why is this? He is filled with Tao."
    },
    {
     "cell_type": "heading",
     "level": 3,
     "metadata": {},
     "source": "Book 8 - Hardware and Software"
    },
    {
     "cell_type": "raw",
     "metadata": {},
     "source": "Thus spake the master programmer:\n\n``Without the wind, the grass does not move. Without software, hardware is useless.''\n"
    },
    {
     "cell_type": "heading",
     "level": 4,
     "metadata": {},
     "source": "8.1"
    },
    {
     "cell_type": "raw",
     "metadata": {},
     "source": "A novice asked the master: ``I perceive that one computer company is much larger than all others. It towers above its competition like a giant among dwarfs. Any one of its divisions could comprise an entire business. Why is this so?''\n\nThe master replied, ``Why do you ask such foolish questions? That company is large because it is large. If it only made hardware, nobody would buy it. If it only made software, nobody would use it. If it only maintained systems, people would treat it like a servant. But because it combines all of these things, people think it one of the gods! By not seeking to strive, it conquers without effort.''"
    },
    {
     "cell_type": "heading",
     "level": 4,
     "metadata": {},
     "source": "8.2"
    },
    {
     "cell_type": "raw",
     "metadata": {},
     "source": "A master programmer passed a novice programmer one day. The master noted the novice's preoccupation with a hand-held computer game. ``Excuse me,'' he said, ``may I examine it?''\n\nThe novice bolted to attention and handed the device to the master. ``I see that the device claims to have three levels of play: Easy, Medium, and Hard,'' said the master. ``Yet every such device has another level of play, where the device seeks not to conquer the human, nor to be conquered by the human.''\n\n``Pray, great master,'' implored the novice, ``how does one find this mysterious setting?''\n\nThe master dropped the device to the ground and crushed it underfoot. And suddenly the novice was enlightened."
    },
    {
     "cell_type": "heading",
     "level": 4,
     "metadata": {},
     "source": "8.3"
    },
    {
     "cell_type": "raw",
     "metadata": {},
     "source": "There was once a programmer who worked upon microprocessors. ``Look at how well off I am here,'' he said to a mainframe programmer who came to visit, ``I have my own operating system and file storage device. I do not have to share my resources with anyone. The software is self- consistent and easy-to-use. Why do you not quit your present job and join me here?''\n\nThe mainframe programmer then began to describe his system to his friend, saying ``The mainframe sits like an ancient sage meditating in the midst of the data center. Its disk drives lie end-to-end like a great ocean of machinery. The software is as multifaceted as a diamond, and as convoluted as a primeval jungle. The programs, each unique, move through the system like a swift-flowing river. That is why I am happy where I am.''\n\nThe microcomputer programmer, upon hearing this, fell silent. But the two programmers remained friends until the end of their days."
    },
    {
     "cell_type": "heading",
     "level": 4,
     "metadata": {},
     "source": "8.4"
    },
    {
     "cell_type": "raw",
     "metadata": {},
     "source": "Hardware met Software on the road to Changtse. Software said: ``You are Yin and I am Yang. If we travel together we will become famous and earn vast sums of money.'' And so the set forth together, thinking to conquer the world.\n\nPresently they met Firmware, who was dressed in tattered rags and hobbled along propped on a thorny stick. Firmware said to them: ``The Tao lies beyond Yin and Yang. It is silent and still as a pool of water. It does not seek fame, therefore nobody knows its presence. It does not seek fortune, for it is complete within itself. It exists beyond space and time.''\n\nSoftware and Hardware, ashamed, returned to their homes."
    },
    {
     "cell_type": "heading",
     "level": 3,
     "metadata": {},
     "source": "Book 9 - Epilogue"
    },
    {
     "cell_type": "raw",
     "metadata": {},
     "source": "Thus spake the master programmer:\n\n``It is time for you to leave.''"
    },
    {
     "cell_type": "code",
     "collapsed": false,
     "input": "",
     "language": "python",
     "metadata": {},
     "outputs": []
    }
   ],
   "metadata": {}
  }
 ]
}