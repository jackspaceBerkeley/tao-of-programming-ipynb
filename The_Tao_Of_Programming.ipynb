# -*- coding: utf-8 -*-
# <nbformat>3.0</nbformat>

# <headingcell level=2>

# The Tao Of Programming

# <markdowncell>

# Translated by Geoffrey James
# 
# Transcribed by Duke Hillard
# 
# Transmitted by Anupam Trivedi, Sajitha Tampi, and Meghshyam Jagannath
# 
# Re-html-ized and edited by Kragen Sittler
# 
# Previously modified 1996-04-10 or earlier
# 
# Source: <A HREF="http://www.canonical.org/~kragen/tao-of-programming.html">http://www.canonical.org/~kragen/tao-of-programming.html</A>
# 
# Migration into IPython Notebook format with joy and compassion by Jackspace

# <headingcell level=3>

# Table of Contents

# <rawcell>

# 
# 1. The Silent Void
# 2. The Ancient Masters
# 3. Design
# 4. Coding
# 5. Maintenance
# 6. Management
# 7. Corporate Wisdom
# 8. Hardware and Software
# 9. Epilogue

# <headingcell level=3>

# Book 1 - The Silent Void

# <rawcell>

# Thus spake the master programmer:
# 
# ``When you have learned to snatch the error code from the trap frame, it will be time for you to leave.''

# <headingcell level=4>

# 1.1

# <rawcell>

# Something mysterious is formed, born in the silent void. Waiting alone and unmoving, it is at once still and yet in constant motion. It is the source of all programs. I do not know its name, so I will call it the Tao of Programming.
# 
# If the Tao is great, then the operating system is great. If the operating system is great, then the compiler is great. If the compiler is great, then the application is great. The user is pleased and there exists harmony in the world.
# 
# The Tao of Programming flows far away and returns on the wind of morning.

# <headingcell level=4>

# 1.2

# <rawcell>

# The Tao gave birth to machine language. Machine language gave birth to the assembler.
# 
# The assembler gave birth to the compiler. Now there are ten thousand languages.
# 
# Each language has its purpose, however humble. Each language expresses the Yin and Yang of software. Each language has its place within the Tao.
# 
# But do not program in COBOL if you can avoid it.

# <headingcell level=4>

# 1.3

# <rawcell>

# In the beginning was the Tao. The Tao gave birth to Space and Time. Therefore Space and Time are Yin and Yang of programming.
# 
# Programmers that do not comprehend the Tao are always running out of time and space for their programs. Programmers that comprehend the Tao always have enough time and space to accomplish their goals.
# 
# How could it be otherwise?

# <headingcell level=4>

# 1.4

# <rawcell>

# The wise programmer is told about Tao and follows it. The average programmer is told about Tao and searches for it. The foolish programmer is told about Tao and laughs at it.
# 
# If it were not for laughter, there would be no Tao.
# 
# The highest sounds are hardest to hear. 
# Going forward is a way to retreat. 
# Great talent shows itself late in life. 
# Even a perfect program still has bugs.

# <headingcell level=3>

# Book 2 - The Ancient Masters

# <rawcell>

# Thus spake the master programmer:
# 
# ``After three days without programming, life becomes meaningless.''

# <headingcell level=4>

# 2.1

# <rawcell>

# The programmers of old were mysterious and profound. We cannot fathom their thoughts, so all we do is describe their appearance.
# 
# Aware, like a fox crossing the water. Alert, like a general on the battlefield. Kind, like a hostess greeting her guests. Simple, like uncarved blocks of wood. Opaque, like black pools in darkened caves.
# 
# Who can tell the secrets of their hearts and minds?
# 
# The answer exists only in Tao.

# <headingcell level=4>

# 2.2

# <rawcell>

# Grand Master Turing once dreamed that he was a machine. When he awoke he exclaimed:
# 
# ``I don't know whether I am Turing dreaming that I am a machine, or a machine dreaming that I am Turing!''

# <headingcell level=4>

# 2.3

# <rawcell>

# A programmer from a very large computer company went to a software conference and then returned to report to his manager, saying: ``What sort of programmers work for other companies? They behaved badly and were unconcerned with appearances. Their hair was long and unkempt and their clothes were wrinkled and old. They crashed our hospitality suite and they made rude noises during my presentation.''
# 
# The manager said: ``I should have never sent you to the conference. Those programmers live beyond the physical world. They consider life absurd, an accidental coincidence. They come and go without knowing limitations. Without a care, they live only for their programs. Why should they bother with social conventions?
# 
# ``They are alive within the Tao.''

# <headingcell level=4>

# 2.4

# <rawcell>

# A novice asked the Master: ``Here is a programmer that never designs, documents or tests his programs. Yet all who know him consider him one of the best programmers in the world. Why is this?''
# 
# The Master replies: ``That programmer has mastered the Tao. He has gone beyond the need for design; he does not become angry when the system crashes, but accepts the universe without concern. He has gone beyond the need for documentation; he no longer cares if anyone else sees his code. He has gone beyond the need for testing; each of his programs are perfect within themselves, serene and elegant, their purpose self-evident. Truly, he has entered the mystery of Tao.''

# <headingcell level=3>

# Book 3 - Design

# <rawcell>

# Thus spake the master programmer:
# 
# ``When the program is being tested, it is too late to make design changes.''

# <headingcell level=4>

# 3.1

# <rawcell>

# There once was a man who went to a computer trade show. Each day as he entered, the man told the guard at the door:
# 
# ``I am a great thief, renowned for my feats of shoplifting. Be forewarned, for this trade show shall not escape unplundered.''
# This speech disturbed the guard greatly, because there were millions of dollars of computer equipment inside, so he watched the man carefully. But the man merely wandered from booth to booth, humming quietly to himself.
# 
# When the man left, the guard took him aside and searched his clothes, but nothing was to be found.
# 
# On the next day of the trade show, the man returned and chided the guard saying: ``I escaped with a vast booty yesterday, but today will be even better.'' So the guard watched him ever more closely, but to no avail.
# 
# On the final day of the trade show, the guard could restrain his curiosity no longer. ``Sir Thief,'' he said, ``I am so perplexed, I cannot live in peace. Please enlighten me. What is it that you are stealing?''
# 
# The man smiled. ``I am stealing ideas,'' he said.

# <headingcell level=4>

# 3.2

# <rawcell>

# There once was a master programmer who wrote unstructured programs. A novice programmer, seeking to imitate him, also began to write unstructured programs. When the novice asked the master to evaluate his progress, the master criticized him for writing unstructured programs, saying, ``What is appropriate for the master is not appropriate for the novice. You must understand the Tao before transcending structure.''

# <headingcell level=4>

# 3.3

# <rawcell>

# There was once a programmer who was attached to the court of the warlord of Wu. The warlord asked the programmer: ``Which is easier to design: an accounting package or an operating system?''
# 
# ``An operating system,'' replied the programmer.
# 
# The warlord uttered an exclamation of disbelief. ``Surely an accounting package is trivial next to the complexity of an operating system,'' he said.
# 
# ``Not so,'' said the programmer, ``when designing an accounting package, the programmer operates as a mediator between people having different ideas: how it must operate, how its reports must appear, and how it must conform to the tax laws. By contrast, an operating system is not limited by outside appearances. When designing an operating system, the programmer seeks the simplest harmony between machine and ideas. This is why an operating system is easier to design.''
# 
# The warlord of Wu nodded and smiled. ``That is all good and well, but which is easier to debug?''
# 
# The programmer made no reply.

# <headingcell level=4>

# 3.4

# <rawcell>

# A manager went to the master programmer and showed him the requirements document for a new application. The manager asked the master: ``How long will it take to design this system if I assign five programmers to it?''
# 
# ``It will take one year,'' said the master promptly.
# 
# ``But we need this system immediately or even sooner! How long will it take if I assign ten programmers to it?''
# 
# The master programmer frowned. ``In that case, it will take two years.''
# 
# ``And what if I assign a hundred programmers to it?''
# 
# The master programmer shrugged. ``Then the design will never be completed,'' he said.

# <headingcell level=3>

# Book 4 - Coding

# <rawcell>

# Thus spake the master programmer:
# 
# ``A well-written program is its own heaven; a poorly-written program is its own hell.''

# <headingcell level=4>

# 4.1

# <rawcell>

# A program should be light and agile, its subroutines connected like a string of pearls. The spirit and intent of the program should be retained throughout. There should be neither too little or too much, neither needless loops nor useless variables, neither lack of structure nor overwhelming rigidity.
# 
# A program should follow the `Law of Least Astonishment'. What is this law? It is simply that the program should always respond to the user in the way that astonishes him least.
# 
# A program, no matter how complex, should act as a single unit. The program should be directed by the logic within rather than by outward appearances.
# 
# If the program fails in these requirements, it will be in a state of disorder and confusion. The only way to correct this is to rewrite the program.

# <headingcell level=4>

# 4.2

# <rawcell>

# A novice asked the master: ``I have a program that sometime runs and sometimes aborts. I have followed the rules of programming, yet I am totally baffled. What is the reason for this?''
# 
# The master replied: ``You are confused because you do not understand Tao. Only a fool expects rational behavior from his fellow humans. Why do you expect it from a machine that humans have constructed? Computers simulate determinism; only Tao is perfect.
# 
# ``The rules of programming are transitory; only Tao is eternal. Therefore you must contemplate Tao before you receive enlightenment.''
# 
# ``But how will I know when I have received enlightenment?'' asked the novice.
# 
# ``Your program will then run correctly,'' replied the master.

# <headingcell level=4>

# 4.3

# <rawcell>

# A master was explaining the nature of Tao of to one of his novices. ``The Tao is embodied in all software - regardless of how insignificant,'' said the master.
# 
# ``Is the Tao in a hand-held calculator?'' asked the novice.
# 
# ``It is,'' came the reply.
# 
# ``Is the Tao in a video game?'' continued the novice.
# 
# ``It is even in a video game,'' said the master.
# 
# ``And is the Tao in the DOS for a personal computer?''
# 
# The master coughed and shifted his position slightly. ``The lesson is over for today,'' he said.

# <headingcell level=4>

# 4.4

# <rawcell>

# Prince Wang's programmer was coding software. His fingers danced upon the keyboard. The program compiled without an error message, and the program ran like a gentle wind.
# 
# ``Excellent!'' the Prince exclaimed, ``Your technique is faultless!''
# 
# ``Technique?'' said the programmer turning from his terminal, ``What I follow is Tao - beyond all techniques! When I first began to program I would see before me the whole problem in one mass. After three years I no longer saw this mass. Instead, I used subroutines. But now I see nothing. My whole being exists in a formless void. My senses are idle. My spirit, free to work without plan, follows its own instinct. In short, my program writes itself. True, sometimes there are difficult problems. I see them coming, I slow down, I watch silently. Then I change a single line of code and the difficulties vanish like puffs of idle smoke. I then compile the program. I sit still and let the joy of the work fill my being. I close my eyes for a moment and then log off.''
# 
# Prince Wang said, ``Would that all of my programmers were as wise!''

# <headingcell level=3>

# Book 5 - Maintenance

# <rawcell>

# Thus spake the master programmer:
# 
# ``Though a program be but three lines long, someday it will have to be maintained.''

# <headingcell level=4>


